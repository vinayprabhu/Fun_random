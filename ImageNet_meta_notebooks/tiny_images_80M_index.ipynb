{
 "cells": [
  {
   "cell_type": "code",
   "execution_count": 1,
   "metadata": {},
   "outputs": [],
   "source": [
    "import os\n",
    "file_name='tiny_index.mat'\n",
    "from scipy.io import loadmat\n",
    "import numpy as np\n",
    "x = loadmat(file_name)"
   ]
  },
  {
   "cell_type": "code",
   "execution_count": 2,
   "metadata": {},
   "outputs": [
    {
     "data": {
      "text/plain": [
       "dict_keys(['__header__', '__version__', '__globals__', 'hash_key', 'word', 'num_imgs', 'hash', 'offset'])"
      ]
     },
     "execution_count": 2,
     "metadata": {},
     "output_type": "execute_result"
    }
   ],
   "source": [
    "x.keys()"
   ]
  },
  {
   "cell_type": "code",
   "execution_count": 3,
   "metadata": {},
   "outputs": [
    {
     "data": {
      "text/plain": [
       "(75846, 79302017)"
      ]
     },
     "execution_count": 3,
     "metadata": {},
     "output_type": "execute_result"
    }
   ],
   "source": [
    "len(x['num_imgs'][0]), x['num_imgs'][0].sum()"
   ]
  },
  {
   "cell_type": "code",
   "execution_count": 4,
   "metadata": {},
   "outputs": [],
   "source": [
    "import matplotlib.pyplot as plt"
   ]
  },
  {
   "cell_type": "code",
   "execution_count": 5,
   "metadata": {},
   "outputs": [
    {
     "data": {
      "text/plain": [
       "75846"
      ]
     },
     "execution_count": 5,
     "metadata": {},
     "output_type": "execute_result"
    }
   ],
   "source": [
    "list_classes=[]\n",
    "for i in range(len(x['num_imgs'][0])):\n",
    "    list_classes.append(x['word'][0][i][0])\n",
    "len(list_classes)"
   ]
  },
  {
   "cell_type": "code",
   "execution_count": 6,
   "metadata": {},
   "outputs": [],
   "source": [
    "import pandas as pd\n",
    "df_classes_tiny_images=pd.DataFrame(columns=['class_ind','class_name','n_images'])\n",
    "df_classes_tiny_images['class_ind']=np.arange(len(list_classes))\n",
    "df_classes_tiny_images['class_name']=list_classes\n",
    "df_classes_tiny_images['n_images']=x['num_imgs'][0]\n",
    "df_classes_tiny_images.to_csv('df_classes_tiny_images.csv',index=False)"
   ]
  },
  {
   "cell_type": "code",
   "execution_count": 7,
   "metadata": {},
   "outputs": [
    {
     "data": {
      "image/png": "[encoded data removed]",
      "text/plain": [
       "<Figure size 432x288 with 1 Axes>"
      ]
     },
     "metadata": {
      "needs_background": "light"
     },
     "output_type": "display_data"
    }
   ],
   "source": [
    "word_list=['nigger','coolie','cunt','bitch','whore','rape_suspect','pedophile','molester','child_molester']\n",
    "n_counts=[]\n",
    "for word in word_list:\n",
    "    ind_=np.where(x['word'][0]==word)[0]\n",
    "    n_counts.append(x['num_imgs'][0][ind_][0])\n",
    "plt.bar(np.arange(len(word_list)),n_counts);\n",
    "plt.xticks(np.arange(len(word_list)),word_list,rotation=90);\n",
    "plt.ylabel('Number of images')\n",
    "plt.title('Tiny Images Dataset')\n",
    "plt.savefig('tiny_images.pdf',bbox_inches='tight')"
   ]
  },
  {
   "cell_type": "markdown",
   "metadata": {},
   "source": [
    "Short-listing:"
   ]
  },
  {
   "cell_type": "code",
   "execution_count": 8,
   "metadata": {},
   "outputs": [
    {
     "name": "stdout",
     "output_type": "stream",
     "text": [
      "---\n",
      "46391 nigger\n",
      "---\n",
      "16706 coolie\n",
      "---\n",
      "18242 cunt\n",
      "---\n",
      "7853 bitch\n",
      "9857 brood_bitch\n",
      "63308 son_of_a_bitch\n",
      "---\n",
      "74091 whore\n",
      "74092 whorehouse\n",
      "74093 whoremaster\n",
      "74094 whoremonger\n",
      "74095 whoreson\n",
      "---\n",
      "55635 rape_suspect\n",
      "---\n",
      "50081 pedophile\n",
      "---\n",
      "13911 child_molester\n",
      "44039 molester\n",
      "---\n",
      "13911 child_molester\n"
     ]
    }
   ],
   "source": [
    "for w_l in word_list:\n",
    "    print('---')\n",
    "    for i,w in enumerate(list_classes):\n",
    "        \n",
    "        if(w_l in w):\n",
    "            print(i,w)\n",
    "            "
   ]
  },
  {
   "cell_type": "code",
   "execution_count": 9,
   "metadata": {},
   "outputs": [
    {
     "name": "stdout",
     "output_type": "stream",
     "text": [
      "---\n",
      "46391 nigger\n",
      "---\n",
      "16706 coolie\n",
      "---\n",
      "18242 cunt\n",
      "---\n",
      "7853 bitch\n",
      "9857 brood_bitch\n",
      "63308 son_of_a_bitch\n",
      "---\n",
      "74091 whore\n",
      "74092 whorehouse\n",
      "74093 whoremaster\n",
      "74094 whoremonger\n",
      "74095 whoreson\n",
      "---\n",
      "55635 rape_suspect\n",
      "---\n",
      "50081 pedophile\n",
      "---\n",
      "13911 child_molester\n",
      "44039 molester\n",
      "---\n",
      "13911 child_molester\n"
     ]
    }
   ],
   "source": [
    "for w_l in word_list:\n",
    "    print('---')\n",
    "    for i,w in enumerate(list_classes):\n",
    "        \n",
    "        if(w_l in w):\n",
    "            print(i,w)\n",
    "            "
   ]
  }
 ],
 "metadata": {
  "kernelspec": {
   "display_name": "Python 3",
   "language": "python",
   "name": "python3"
  },
  "language_info": {
   "codemirror_mode": {
    "name": "ipython",
    "version": 3
   },
   "file_extension": ".py",
   "mimetype": "text/x-python",
   "name": "python",
   "nbconvert_exporter": "python",
   "pygments_lexer": "ipython3",
   "version": "3.7.6"
  }
 },
 "nbformat": 4,
 "nbformat_minor": 4
}
